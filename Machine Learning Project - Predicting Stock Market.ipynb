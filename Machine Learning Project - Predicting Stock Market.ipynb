{
 "cells": [
  {
   "cell_type": "code",
   "execution_count": 53,
   "metadata": {},
   "outputs": [],
   "source": [
    "import pandas as pd\n",
    "import numpy as np\n",
    "import matplotlib.pyplot as plt\n",
    "from sklearn.model_selection import KFold\n",
    "from sklearn.metrics import mean_squared_error\n",
    "from sklearn import linear_model\n",
    "from sklearn.linear_model import LinearRegression\n",
    "from sklearn.linear_model import LogisticRegression\n",
    "from datetime import datetime\n",
    "import seaborn as sns\n",
    "import math\n",
    "\n",
    "# # Introduction\n",
    "\n",
    "\n",
    "df = pd.read_csv(r'C:\\Users\\mikel\\OneDrive\\Desktop\\Python\\Datasets\\sphist.csv')\n",
    "\n",
    "# Convert Date col to Pandas Date Format\n",
    "df['Date'] = pd.to_datetime(df['Date'])"
   ]
  },
  {
   "cell_type": "markdown",
   "metadata": {},
   "source": [
    "# Data Cleaning"
   ]
  },
  {
   "cell_type": "code",
   "execution_count": 54,
   "metadata": {},
   "outputs": [
    {
     "name": "stdout",
     "output_type": "stream",
     "text": [
      "            Date   Open   High    Low  Close     Volume  Adj Close\n",
      "16589 1950-01-03  16.66  16.66  16.66  16.66  1260000.0      16.66\n",
      "16588 1950-01-04  16.85  16.85  16.85  16.85  1890000.0      16.85\n",
      "mean is: 16.855\n"
     ]
    }
   ],
   "source": [
    "# Boolean Condition (from datetime import datetime)\n",
    "a = df[\"Date\"] > datetime(year=2015, month=4, day=1)\n",
    "\n",
    "df = df.sort_values(by='Date', ascending=True)\n",
    "\n",
    "print(df.iloc[:2])\n",
    "print('mean is: ' + str(df['Close'][:4].mean()))"
   ]
  },
  {
   "cell_type": "code",
   "execution_count": 55,
   "metadata": {},
   "outputs": [
    {
     "name": "stdout",
     "output_type": "stream",
     "text": [
      "            Date   Open   High    Low  Close     Volume  Adj Close  day_5  \\\n",
      "16589 1950-01-03  16.66  16.66  16.66  16.66  1260000.0      16.66      0   \n",
      "16588 1950-01-04  16.85  16.85  16.85  16.85  1890000.0      16.85      0   \n",
      "\n",
      "       day_30  day_365  \n",
      "16589       0        0  \n",
      "16588       0        0  \n"
     ]
    }
   ],
   "source": [
    "df['day_5'] = 0\n",
    "df['day_30'] = 0\n",
    "df['day_365'] = 0\n",
    "print(df[:2])"
   ]
  },
  {
   "cell_type": "code",
   "execution_count": 73,
   "metadata": {
    "scrolled": true
   },
   "outputs": [
    {
     "name": "stdout",
     "output_type": "stream",
     "text": [
      "            Date       Open       High        Low      Close     Volume  \\\n",
      "16224 1951-06-19  22.020000  22.020000  22.020000  22.020000  1100000.0   \n",
      "16223 1951-06-20  21.910000  21.910000  21.910000  21.910000  1120000.0   \n",
      "16222 1951-06-21  21.780001  21.780001  21.780001  21.780001  1100000.0   \n",
      "16221 1951-06-22  21.549999  21.549999  21.549999  21.549999  1340000.0   \n",
      "16220 1951-06-25  21.290001  21.290001  21.290001  21.290001  2440000.0   \n",
      "\n",
      "       Adj Close  day_5  day_30  day_365  \n",
      "16224  22.020000    NaN     NaN      NaN  \n",
      "16223  21.910000    NaN     NaN      NaN  \n",
      "16222  21.780001    NaN     NaN      NaN  \n",
      "16221  21.549999    NaN     NaN      NaN  \n",
      "16220  21.290001    NaN     NaN      NaN  \n"
     ]
    }
   ],
   "source": [
    "# Calculates rolling mean and shifts index position by 1 day\n",
    "df['day_5'] = df['Close'].rolling(5).mean()\n",
    "df['day_5'] = df['day_5'].shift()\n",
    "df['day_30'] = df['Close'].rolling(30).mean()\n",
    "df['day_30'] = df['day_30'].shift()\n",
    "df['day_365'] = df['Close'].rolling(365).mean()\n",
    "df['day_365'] = df['day_365'].shift()\n",
    "print(df.head())"
   ]
  },
  {
   "cell_type": "code",
   "execution_count": 57,
   "metadata": {},
   "outputs": [
    {
     "name": "stdout",
     "output_type": "stream",
     "text": [
      "            Date       Open       High        Low      Close     Volume  \\\n",
      "16224 1951-06-19  22.020000  22.020000  22.020000  22.020000  1100000.0   \n",
      "16223 1951-06-20  21.910000  21.910000  21.910000  21.910000  1120000.0   \n",
      "16222 1951-06-21  21.780001  21.780001  21.780001  21.780001  1100000.0   \n",
      "16221 1951-06-22  21.549999  21.549999  21.549999  21.549999  1340000.0   \n",
      "16220 1951-06-25  21.290001  21.290001  21.290001  21.290001  2440000.0   \n",
      "\n",
      "       Adj Close   day_5     day_30    day_365  \n",
      "16224  22.020000  21.800  21.703333  19.447726  \n",
      "16223  21.910000  21.900  21.683000  19.462411  \n",
      "16222  21.780001  21.972  21.659667  19.476274  \n",
      "16221  21.549999  21.960  21.631000  19.489562  \n",
      "16220  21.290001  21.862  21.599000  19.502082  \n"
     ]
    }
   ],
   "source": [
    "# Drop rows with NaN\n",
    "df = df.dropna(axis=0)\n",
    "print(df.head())"
   ]
  },
  {
   "cell_type": "markdown",
   "metadata": {},
   "source": [
    "# Linear Regression"
   ]
  },
  {
   "cell_type": "code",
   "execution_count": 58,
   "metadata": {
    "scrolled": true
   },
   "outputs": [
    {
     "name": "stdout",
     "output_type": "stream",
     "text": [
      "            Date       Open       High        Low      Close     Volume  \\\n",
      "16224 1951-06-19  22.020000  22.020000  22.020000  22.020000  1100000.0   \n",
      "16223 1951-06-20  21.910000  21.910000  21.910000  21.910000  1120000.0   \n",
      "16222 1951-06-21  21.780001  21.780001  21.780001  21.780001  1100000.0   \n",
      "16221 1951-06-22  21.549999  21.549999  21.549999  21.549999  1340000.0   \n",
      "16220 1951-06-25  21.290001  21.290001  21.290001  21.290001  2440000.0   \n",
      "16219 1951-06-26  21.299999  21.299999  21.299999  21.299999  1260000.0   \n",
      "16218 1951-06-27  21.370001  21.370001  21.370001  21.370001  1360000.0   \n",
      "16217 1951-06-28  21.100000  21.100000  21.100000  21.100000  1940000.0   \n",
      "16216 1951-06-29  20.959999  20.959999  20.959999  20.959999  1730000.0   \n",
      "16215 1951-07-02  21.100000  21.100000  21.100000  21.100000  1350000.0   \n",
      "\n",
      "       Adj Close   day_5     day_30    day_365  \n",
      "16224  22.020000  21.800  21.703333  19.447726  \n",
      "16223  21.910000  21.900  21.683000  19.462411  \n",
      "16222  21.780001  21.972  21.659667  19.476274  \n",
      "16221  21.549999  21.960  21.631000  19.489562  \n",
      "16220  21.290001  21.862  21.599000  19.502082  \n",
      "16219  21.299999  21.710  21.564333  19.513617  \n",
      "16218  21.370001  21.566  21.535000  19.525315  \n",
      "16217  21.100000  21.458  21.522000  19.537041  \n",
      "16216  20.959999  21.322  21.502333  19.548932  \n",
      "16215  21.100000  21.204  21.470667  19.560685  \n",
      "          Date         Open         High          Low        Close  \\\n",
      "738 2013-01-02  1426.189941  1462.430054  1426.189941  1462.420044   \n",
      "737 2013-01-03  1462.420044  1465.469971  1455.530029  1459.369995   \n",
      "736 2013-01-04  1459.369995  1467.939941  1458.989990  1466.469971   \n",
      "735 2013-01-07  1466.469971  1466.469971  1456.619995  1461.890015   \n",
      "734 2013-01-08  1461.890015  1461.890015  1451.640015  1457.150024   \n",
      "733 2013-01-09  1457.150024  1464.729980  1457.150024  1461.020020   \n",
      "732 2013-01-10  1461.020020  1472.300049  1461.020020  1472.119995   \n",
      "731 2013-01-11  1472.119995  1472.750000  1467.579956  1472.050049   \n",
      "730 2013-01-14  1472.050049  1472.050049  1465.689941  1470.680054   \n",
      "729 2013-01-15  1470.670044  1473.310059  1463.760010  1472.339966   \n",
      "\n",
      "           Volume    Adj Close        day_5       day_30      day_365  \n",
      "738  4.202600e+09  1462.420044  1418.641992  1414.258667  1327.534055  \n",
      "737  3.829730e+09  1459.369995  1425.793994  1417.676668  1327.908247  \n",
      "736  3.424290e+09  1466.469971  1433.702002  1420.092668  1328.224877  \n",
      "735  3.304970e+09  1461.890015  1443.376001  1422.714665  1328.557617  \n",
      "734  3.601600e+09  1457.150024  1455.267993  1425.076664  1328.898603  \n",
      "733  3.674390e+09  1461.020020  1461.460010  1426.676664  1329.241644  \n",
      "732  4.081840e+09  1472.119995  1461.180005  1428.500997  1329.669398  \n",
      "731  3.340650e+09  1472.050049  1463.730005  1430.940332  1330.139124  \n",
      "730  3.003010e+09  1470.680054  1464.846021  1433.010999  1330.631644  \n",
      "729  3.135350e+09  1472.339966  1466.604028  1434.835335  1331.135042  \n"
     ]
    }
   ],
   "source": [
    "# Training Data\n",
    "a = df['Date'] < datetime(year=2013, month=1, day=1)\n",
    "b = df['Date'] >= datetime(year=2013, month=1, day=1)\n",
    "train = df[a]\n",
    "test = df[b]\n",
    "print(train.head(10))\n",
    "print(test.head(10))"
   ]
  },
  {
   "cell_type": "code",
   "execution_count": 71,
   "metadata": {},
   "outputs": [
    {
     "name": "stdout",
     "output_type": "stream",
     "text": [
      "MSE_5: 493.2698288743041\n",
      "MSE_30: 1636.5809684230187\n",
      "MSE_365: 24609.62854669091\n"
     ]
    }
   ],
   "source": [
    "# Linear Regression\n",
    "\n",
    "lr = LinearRegression()\n",
    "lr.fit(train[['day_5']], train[['Close']])\n",
    "prediction = lr.predict(test[['day_5']])\n",
    "mse = mean_squared_error(test['Close'], prediction)\n",
    "print('MSE_5:',mse)\n",
    "\n",
    "lr = LinearRegression()\n",
    "lr.fit(train[['day_30']], train[['Close']])\n",
    "prediction = lr.predict(test[['day_30']])\n",
    "mse = mean_squared_error(test['Close'], prediction)\n",
    "print('MSE_30:',mse)\n",
    "lr = LinearRegression()\n",
    "lr.fit(train[['day_365']], train[['Close']])\n",
    "prediction = lr.predict(test[['day_365']])\n",
    "mse = mean_squared_error(test['Close'], prediction)\n",
    "print('MSE_365:',mse)"
   ]
  },
  {
   "cell_type": "code",
   "execution_count": 74,
   "metadata": {},
   "outputs": [
    {
     "name": "stdout",
     "output_type": "stream",
     "text": [
      "MSE_5_365: 493.8476589907151\n",
      "MSE_5_30_365: 493.7313030125896\n"
     ]
    }
   ],
   "source": [
    "# Additional indicators for Linear Regression\n",
    "lr = LinearRegression()\n",
    "lr.fit(train[['day_5', 'day_30']], train[['Close']])\n",
    "prediction = lr.predict(test[['day_5', 'day_30']])\n",
    "mse = mean_squared_error(test['Close'], prediction)\n",
    "print('MSE_5_365:',mse)\n",
    "\n",
    "lr = LinearRegression()\n",
    "lr.fit(train[['day_5', 'day_30', 'day_365']], train[['Close']])\n",
    "prediction = lr.predict(test[['day_5', 'day_30', 'day_365']])\n",
    "mse = mean_squared_error(test['Close'], prediction)\n",
    "print('MSE_5_30_365:',mse)"
   ]
  }
 ],
 "metadata": {
  "kernelspec": {
   "display_name": "Python 3",
   "language": "python",
   "name": "python3"
  }
 },
 "nbformat": 4,
 "nbformat_minor": 2
}
