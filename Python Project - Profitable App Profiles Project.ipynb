{
 "cells": [
  {
   "cell_type": "markdown",
   "metadata": {
    "collapsed": true
   },
   "source": [
    "# Profitable App Profiles for the App Store & Google Play Store"
   ]
  },
  {
   "cell_type": "markdown",
   "metadata": {},
   "source": [
    "Analyze data to determine app profiles that are profitable for the App Store & Google Play store and allow developers create those applications."
   ]
  },
  {
   "cell_type": "code",
   "execution_count": 2,
   "metadata": {
    "scrolled": true
   },
   "outputs": [],
   "source": [
    "import pandas as pd\n",
    "import numpy as np\n",
    "from csv import reader\n",
    "\n",
    "### The Google Play data set ###\n",
    "opened_file = open('googleplaystore.csv',encoding='Latin-1')\n",
    "read_file = reader(opened_file)\n",
    "android = list(read_file)\n",
    "android_header = android[0]\n",
    "android = android[1:]\n",
    "\n",
    "### The App Store data set ###\n",
    "opened_file = open('AppleStore.csv',encoding='Latin-1')\n",
    "read_file = reader(opened_file)\n",
    "ios = list(read_file)\n",
    "ios_header = ios[0]\n",
    "ios = ios[1:]"
   ]
  },
  {
   "cell_type": "code",
   "execution_count": 4,
   "metadata": {
    "scrolled": true
   },
   "outputs": [],
   "source": [
    "def explore_data(dataset,start,end,rows_and_columns=False):\n",
    "    dataset_slice = dataset[start:end]\n",
    "    for row in dataset_slice:\n",
    "        print(row)\n",
    "        print('\\n')\n",
    "    if rows_and_columns:\n",
    "        print('Number of rows:', len(dataset))\n",
    "        print('Number of columns:', len(dataset[0]))"
   ]
  },
  {
   "cell_type": "code",
   "execution_count": 5,
   "metadata": {
    "scrolled": true
   },
   "outputs": [
    {
     "name": "stdout",
     "output_type": "stream",
     "text": [
      "['Photo Editor & Candy Camera & Grid & ScrapBook', 'ART_AND_DESIGN', '4.1', '159', '19M', '10,000+', 'Free', '0', 'Everyone', 'Art & Design', 'January 7, 2018', '1.0.0', '4.0.3 and up']\n",
      "\n",
      "\n",
      "['Coloring book moana', 'ART_AND_DESIGN', '3.9', '967', '14M', '500,000+', 'Free', '0', 'Everyone', 'Art & Design;Pretend Play', 'January 15, 2018', '2.0.0', '4.0.3 and up']\n",
      "\n",
      "\n",
      "['U Launcher Lite â\\x80\\x93 FREE Live Cool Themes, Hide Apps', 'ART_AND_DESIGN', '4.7', '87510', '8.7M', '5,000,000+', 'Free', '0', 'Everyone', 'Art & Design', 'August 1, 2018', '1.2.4', '4.0.3 and up']\n",
      "\n",
      "\n",
      "Number of rows: 10841\n",
      "Number of columns: 13\n"
     ]
    }
   ],
   "source": [
    "explore_data(android, 0, 3, True)\n",
    "#10841 apps\n",
    "#'App', 'Category', 'Reviews', 'Installs'\n",
    "#'Type', 'Price', and 'Genres' Columns"
   ]
  },
  {
   "cell_type": "code",
   "execution_count": 6,
   "metadata": {},
   "outputs": [
    {
     "name": "stdout",
     "output_type": "stream",
     "text": [
      "['', 'id', 'track_name', 'size_bytes', 'currency', 'price', 'rating_count_tot', 'rating_count_ver', 'user_rating', 'user_rating_ver', 'ver', 'cont_rating', 'prime_genre', 'sup_devices.num', 'ipadSc_urls.num', 'lang.num', 'vpp_lic']\n",
      "\n",
      "\n",
      "['1', '281656475', 'PAC-MAN Premium', '100788224', 'USD', '3.99', '21292', '26', '4', '4.5', '6.3.5', '4+', 'Games', '38', '5', '10', '1']\n",
      "\n",
      "\n",
      "['2', '281796108', 'Evernote - stay organized', '158578688', 'USD', '0', '161065', '26', '4', '3.5', '8.2.2', '4+', 'Productivity', '37', '5', '23', '1']\n",
      "\n",
      "\n",
      "['3', '281940292', 'WeatherBug - Local Weather, Radar, Maps, Alerts', '100524032', 'USD', '0', '188583', '2822', '3.5', '4.5', '5.0.0', '4+', 'Weather', '37', '5', '3', '1']\n",
      "\n",
      "\n",
      "Number of rows: 7197\n",
      "Number of columns: 17\n"
     ]
    }
   ],
   "source": [
    "print(ios_header)\n",
    "print('\\n')\n",
    "explore_data(ios, 0, 3, True)\n",
    "#'track_name', 'currency', 'price', 'rating_count_tot'\n",
    "#'rating_count_ver', and 'prime_genre'\n"
   ]
  },
  {
   "cell_type": "markdown",
   "metadata": {},
   "source": [
    "# Removing Duplicate Entries\n"
   ]
  },
  {
   "cell_type": "code",
   "execution_count": 7,
   "metadata": {},
   "outputs": [
    {
     "name": "stdout",
     "output_type": "stream",
     "text": [
      "['Life Made WI-Fi Touchscreen Photo Frame', '1.9', '19', '3.0M', '1,000+', 'Free', '0', 'Everyone', '', 'February 11, 2018', '1.0.19', '4.0 and up']\n",
      "\n",
      "\n",
      "['App', 'Category', 'Rating', 'Reviews', 'Size', 'Installs', 'Type', 'Price', 'Content Rating', 'Genres', 'Last Updated', 'Current Ver', 'Android Ver']\n",
      "\n",
      "\n",
      "['Photo Editor & Candy Camera & Grid & ScrapBook', 'ART_AND_DESIGN', '4.1', '159', '19M', '10,000+', 'Free', '0', 'Everyone', 'Art & Design', 'January 7, 2018', '1.0.0', '4.0.3 and up']\n"
     ]
    }
   ],
   "source": [
    "print(android[10472])  # incorrect row\n",
    "print('\\n')\n",
    "print(android_header)  # header\n",
    "print('\\n')\n",
    "print(android[0])      # correct row"
   ]
  },
  {
   "cell_type": "code",
   "execution_count": 8,
   "metadata": {},
   "outputs": [
    {
     "name": "stdout",
     "output_type": "stream",
     "text": [
      "10841\n",
      "10840\n"
     ]
    }
   ],
   "source": [
    "print(len(android))\n",
    "del android[10472]  # don't run this more than once\n",
    "print(len(android))"
   ]
  },
  {
   "cell_type": "markdown",
   "metadata": {},
   "source": [
    "# Removing Duplicate Entries\n",
    "Part One\n"
   ]
  },
  {
   "cell_type": "code",
   "execution_count": 9,
   "metadata": {},
   "outputs": [
    {
     "name": "stdout",
     "output_type": "stream",
     "text": [
      "['Instagram', 'SOCIAL', '4.5', '66577313', 'Varies with device', '1,000,000,000+', 'Free', '0', 'Teen', 'Social', 'July 31, 2018', 'Varies with device', 'Varies with device']\n",
      "\n",
      "\n",
      "['Instagram', 'SOCIAL', '4.5', '66577446', 'Varies with device', '1,000,000,000+', 'Free', '0', 'Teen', 'Social', 'July 31, 2018', 'Varies with device', 'Varies with device']\n",
      "\n",
      "\n",
      "['Instagram', 'SOCIAL', '4.5', '66577313', 'Varies with device', '1,000,000,000+', 'Free', '0', 'Teen', 'Social', 'July 31, 2018', 'Varies with device', 'Varies with device']\n",
      "\n",
      "\n",
      "['Instagram', 'SOCIAL', '4.5', '66509917', 'Varies with device', '1,000,000,000+', 'Free', '0', 'Teen', 'Social', 'July 31, 2018', 'Varies with device', 'Varies with device']\n",
      "\n",
      "\n"
     ]
    }
   ],
   "source": [
    "for app in android:\n",
    "    name = app[0]\n",
    "    if name == 'Instagram':\n",
    "        print(app)\n",
    "        print('\\n')"
   ]
  },
  {
   "cell_type": "code",
   "execution_count": 10,
   "metadata": {},
   "outputs": [
    {
     "name": "stdout",
     "output_type": "stream",
     "text": [
      "Number of duplicate apps: 1181\n",
      "\n",
      "\n",
      "Examples of duplicate apps: ['Quick PDF Scanner + OCR FREE', 'Box', 'Google My Business', 'ZOOM Cloud Meetings', 'join.me - Simple Meetings', 'Box', 'Zenefits', 'Google Ads', 'Google My Business', 'Slack', 'FreshBooks Classic', 'Insightly CRM', 'QuickBooks Accounting: Invoicing & Expenses', 'HipChat - Chat Built for Teams', 'Xero Accounting Software']\n"
     ]
    }
   ],
   "source": [
    "duplicate_apps = []\n",
    "unique_apps = []\n",
    "\n",
    "for app in android:\n",
    "    name = app[0]\n",
    "    if name in unique_apps:\n",
    "        duplicate_apps.append(name)\n",
    "    else:\n",
    "        unique_apps.append(name)\n",
    "    \n",
    "print('Number of duplicate apps:', len(duplicate_apps))\n",
    "print('\\n')\n",
    "print('Examples of duplicate apps:', duplicate_apps[:15])"
   ]
  },
  {
   "cell_type": "code",
   "execution_count": 25,
   "metadata": {},
   "outputs": [
    {
     "name": "stdout",
     "output_type": "stream",
     "text": [
      "1181 duplicates\n",
      "9659 unique\n"
     ]
    }
   ],
   "source": [
    "#There are 1181 duplicates and 9659 unique apps\n",
    "print(len(duplicate_apps),'duplicates')\n",
    "print(len(unique_apps),'unique')"
   ]
  },
  {
   "cell_type": "code",
   "execution_count": 26,
   "metadata": {},
   "outputs": [
    {
     "name": "stdout",
     "output_type": "stream",
     "text": [
      "Number of duplicate apps: 1181\n",
      "\n",
      "\n",
      "Examples of duplicate apps: ['Quick PDF Scanner + OCR FREE', 'Box', 'Google My Business', 'ZOOM Cloud Meetings', 'join.me - Simple Meetings', 'Box', 'Zenefits', 'Google Ads', 'Google My Business', 'Slack', 'FreshBooks Classic', 'Insightly CRM', 'QuickBooks Accounting: Invoicing & Expenses', 'HipChat - Chat Built for Teams', 'Xero Accounting Software']\n"
     ]
    }
   ],
   "source": [
    "print('Number of duplicate apps:', len(duplicate_apps))\n",
    "print('\\n')\n",
    "print('Examples of duplicate apps:', duplicate_apps[:15])"
   ]
  },
  {
   "cell_type": "code",
   "execution_count": 27,
   "metadata": {},
   "outputs": [
    {
     "name": "stdout",
     "output_type": "stream",
     "text": [
      "iHoroscope - 2018 Daily Horoscope & Astrology\n"
     ]
    }
   ],
   "source": [
    "#app name\n",
    "print(app[0])"
   ]
  },
  {
   "cell_type": "code",
   "execution_count": 28,
   "metadata": {},
   "outputs": [
    {
     "data": {
      "text/plain": [
       "9659"
      ]
     },
     "execution_count": 28,
     "metadata": {},
     "output_type": "execute_result"
    }
   ],
   "source": [
    "len(reviews_max) #length of the dictionary"
   ]
  },
  {
   "cell_type": "code",
   "execution_count": 29,
   "metadata": {},
   "outputs": [],
   "source": [
    "#Solution for unique app with hgihest number of reviews\n",
    "reviews_max = {}\n",
    "\n",
    "for app in android:\n",
    "    name = app[0]\n",
    "    n_reviews = float(app[3])\n",
    "    \n",
    "    if name in reviews_max and reviews_max[name] < n_reviews:\n",
    "        reviews_max[name] = n_reviews\n",
    "    \n",
    "    elif name not in reviews_max:\n",
    "        reviews_max[name] = n_reviews"
   ]
  },
  {
   "cell_type": "code",
   "execution_count": 30,
   "metadata": {
    "scrolled": false
   },
   "outputs": [
    {
     "name": "stdout",
     "output_type": "stream",
     "text": [
      "Expected length: 9659\n",
      "Actual length: 9659\n"
     ]
    }
   ],
   "source": [
    "print('Expected length:', len(android) - 1181)\n",
    "print('Actual length:', len(reviews_max))"
   ]
  },
  {
   "cell_type": "markdown",
   "metadata": {},
   "source": [
    "Remove duplicates from the reviews_max dictionary. For the duplicate cases,only keep the entries with the highest number of reviews. Code cell below:\n",
    "\n",
    "- Initializing two empty lists (android_clean and already_added)\n",
    "- Loop through the android data set, and for every iteration:\n",
    "    - Isolate the name of the app and the number of reviews\n",
    "    - Add the current row (app) to the android_clean list, and the app name  (name) to the already_cleaned list if:\n",
    "        - The number of reviews of the current app matches the number of reviews of that app as described in the reviews_max dictionary\n",
    "        - The name of the app is not already in the already_added list. We need to add this supplementary condition to account for those cases where the highest number of reviews of a duplicate app is the same for more than one entry (for example, the Box app has three entries, and the number of reviews is the same). If we just check for reviews_max[name] == n_reviews, we'll still end up with duplicate entries for some apps."
   ]
  },
  {
   "cell_type": "code",
   "execution_count": 31,
   "metadata": {},
   "outputs": [],
   "source": [
    "\n",
    "android_clean = []\n",
    "already_added = []\n",
    "\n",
    "for app in android:\n",
    "    name = app[0]\n",
    "    n_reviews = float(app[3])\n",
    "    \n",
    "    if (reviews_max[name] == n_reviews) and (name not in already_added):\n",
    "        android_clean.append(app)\n",
    "        already_added.append(name) # make sure this is inside the if block"
   ]
  },
  {
   "cell_type": "code",
   "execution_count": 32,
   "metadata": {},
   "outputs": [
    {
     "name": "stdout",
     "output_type": "stream",
     "text": [
      "['Photo Editor & Candy Camera & Grid & ScrapBook', 'ART_AND_DESIGN', '4.1', '159', '19M', '10,000+', 'Free', '0', 'Everyone', 'Art & Design', 'January 7, 2018', '1.0.0', '4.0.3 and up']\n",
      "\n",
      "\n",
      "['U Launcher Lite â\\x80\\x93 FREE Live Cool Themes, Hide Apps', 'ART_AND_DESIGN', '4.7', '87510', '8.7M', '5,000,000+', 'Free', '0', 'Everyone', 'Art & Design', 'August 1, 2018', '1.2.4', '4.0.3 and up']\n",
      "\n",
      "\n",
      "['Sketch - Draw & Paint', 'ART_AND_DESIGN', '4.5', '215644', '25M', '50,000,000+', 'Free', '0', 'Teen', 'Art & Design', 'June 8, 2018', 'Varies with device', '4.2 and up']\n",
      "\n",
      "\n",
      "Number of rows: 9659\n",
      "Number of columns: 13\n"
     ]
    }
   ],
   "source": [
    "explore_data(android_clean, 0, 3, True)"
   ]
  },
  {
   "cell_type": "code",
   "execution_count": 33,
   "metadata": {},
   "outputs": [],
   "source": [
    "#Function that takes string and returns False if there's non-english characters otherwise True\n",
    "def english(string):\n",
    "    for character in string:\n",
    "        if ord(character) > 127: #ord() returns value 1-255 for unicode value\n",
    "            return False\n",
    "    return True"
   ]
  },
  {
   "cell_type": "code",
   "execution_count": 34,
   "metadata": {},
   "outputs": [
    {
     "data": {
      "text/plain": [
       "False"
      ]
     },
     "execution_count": 34,
     "metadata": {},
     "output_type": "execute_result"
    }
   ],
   "source": [
    "english('爱奇艺PPS -《欢乐颂2》电视剧热播')"
   ]
  },
  {
   "cell_type": "code",
   "execution_count": 35,
   "metadata": {},
   "outputs": [
    {
     "data": {
      "text/plain": [
       "True"
      ]
     },
     "execution_count": 35,
     "metadata": {},
     "output_type": "execute_result"
    }
   ],
   "source": [
    "english('Instagram')"
   ]
  },
  {
   "cell_type": "code",
   "execution_count": 36,
   "metadata": {
    "scrolled": true
   },
   "outputs": [
    {
     "name": "stdout",
     "output_type": "stream",
     "text": [
      "436672029\n",
      "1144164707\n",
      "ä¸­å½èª AQãªã¹ãã³ã°\n",
      "ÙØ¹Ø¨Ø© ØªÙØ¯Ø± ØªØ±Ø¨Ø­ DZ\n"
     ]
    }
   ],
   "source": [
    "print(ios[813][1])\n",
    "print(ios[6731][1])\n",
    "\n",
    "print(android_clean[4412][0])\n",
    "print(android_clean[7940][0])"
   ]
  },
  {
   "cell_type": "markdown",
   "metadata": {},
   "source": [
    "# Part Two"
   ]
  },
  {
   "cell_type": "code",
   "execution_count": 37,
   "metadata": {},
   "outputs": [
    {
     "name": "stdout",
     "output_type": "stream",
     "text": [
      "True\n",
      "True\n"
     ]
    }
   ],
   "source": [
    "def is_english(string):\n",
    "    non_ascii = 0\n",
    "    \n",
    "    for character in string:\n",
    "        if ord(character) > 127:\n",
    "            non_ascii += 1\n",
    "    \n",
    "    if non_ascii > 3:\n",
    "        return False\n",
    "    else:\n",
    "        return True\n",
    "\n",
    "print(is_english('Docs To Go™ Free Office Suite'))\n",
    "print(is_english('Instachat 😜'))"
   ]
  },
  {
   "cell_type": "code",
   "execution_count": 38,
   "metadata": {
    "scrolled": true
   },
   "outputs": [
    {
     "name": "stdout",
     "output_type": "stream",
     "text": [
      "True\n",
      "True\n"
     ]
    }
   ],
   "source": [
    "#Remove an app if its name has more than three non-ASCII characters\n",
    "def is_english(string):\n",
    "    non_ascii = 0\n",
    "    \n",
    "    for character in string:\n",
    "        if ord(character) > 127:\n",
    "            non_ascii += 1\n",
    "    \n",
    "    if non_ascii > 3:\n",
    "        return False\n",
    "    else:\n",
    "        return True\n",
    "\n",
    "print(is_english('Docs To Go™ Free Office Suite'))\n",
    "print(is_english('Instachat 😜'))"
   ]
  },
  {
   "cell_type": "code",
   "execution_count": 39,
   "metadata": {
    "scrolled": true
   },
   "outputs": [
    {
     "name": "stdout",
     "output_type": "stream",
     "text": [
      "['Photo Editor & Candy Camera & Grid & ScrapBook', 'ART_AND_DESIGN', '4.1', '159', '19M', '10,000+', 'Free', '0', 'Everyone', 'Art & Design', 'January 7, 2018', '1.0.0', '4.0.3 and up']\n",
      "\n",
      "\n",
      "['U Launcher Lite â\\x80\\x93 FREE Live Cool Themes, Hide Apps', 'ART_AND_DESIGN', '4.7', '87510', '8.7M', '5,000,000+', 'Free', '0', 'Everyone', 'Art & Design', 'August 1, 2018', '1.2.4', '4.0.3 and up']\n",
      "\n",
      "\n",
      "['Sketch - Draw & Paint', 'ART_AND_DESIGN', '4.5', '215644', '25M', '50,000,000+', 'Free', '0', 'Teen', 'Art & Design', 'June 8, 2018', 'Varies with device', '4.2 and up']\n",
      "\n",
      "\n",
      "Number of rows: 9500\n",
      "Number of columns: 13\n",
      "\n",
      "\n",
      "['1', '281656475', 'PAC-MAN Premium', '100788224', 'USD', '3.99', '21292', '26', '4', '4.5', '6.3.5', '4+', 'Games', '38', '5', '10', '1']\n",
      "\n",
      "\n",
      "['2', '281796108', 'Evernote - stay organized', '158578688', 'USD', '0', '161065', '26', '4', '3.5', '8.2.2', '4+', 'Productivity', '37', '5', '23', '1']\n",
      "\n",
      "\n",
      "['3', '281940292', 'WeatherBug - Local Weather, Radar, Maps, Alerts', '100524032', 'USD', '0', '188583', '2822', '3.5', '4.5', '5.0.0', '4+', 'Weather', '37', '5', '3', '1']\n",
      "\n",
      "\n",
      "Number of rows: 7197\n",
      "Number of columns: 17\n"
     ]
    }
   ],
   "source": [
    "#Filters out non-english from both data sets\n",
    "android_english = []\n",
    "ios_english = []\n",
    "\n",
    "for app in android_clean:\n",
    "    name = app[0]\n",
    "    if is_english(name):\n",
    "        android_english.append(app)\n",
    "        \n",
    "for app in ios:\n",
    "    name = app[1]\n",
    "    if is_english(name):\n",
    "        ios_english.append(app)\n",
    "        \n",
    "explore_data(android_english, 0, 3, True)\n",
    "print('\\n')\n",
    "explore_data(ios_english, 0, 3, True)"
   ]
  },
  {
   "cell_type": "markdown",
   "metadata": {},
   "source": [
    "# Isolating the Free Apps"
   ]
  },
  {
   "cell_type": "markdown",
   "metadata": {},
   "source": [
    "Isolate data of free and non-free apps from dataset. "
   ]
  },
  {
   "cell_type": "code",
   "execution_count": 74,
   "metadata": {},
   "outputs": [
    {
     "name": "stdout",
     "output_type": "stream",
     "text": [
      "7197\n"
     ]
    }
   ],
   "source": [
    "for app in ios_english:\n",
    "    price = app[4]\n",
    "    if price == '0.0':\n",
    "        ios_english.append(app)\n",
    "print(len(ios_english))"
   ]
  },
  {
   "cell_type": "code",
   "execution_count": 75,
   "metadata": {},
   "outputs": [
    {
     "name": "stdout",
     "output_type": "stream",
     "text": [
      "8760\n"
     ]
    }
   ],
   "source": [
    "android_final = []\n",
    "ios_final = []\n",
    "\n",
    "for app in android_english:\n",
    "    price = app[7]\n",
    "    if price == '0':\n",
    "        android_final.append(app)\n",
    "print(len(android_final))"
   ]
  },
  {
   "cell_type": "code",
   "execution_count": 76,
   "metadata": {},
   "outputs": [
    {
     "name": "stdout",
     "output_type": "stream",
     "text": [
      "0\n"
     ]
    }
   ],
   "source": [
    "for app in ios_english:\n",
    "    price = app[4]\n",
    "    if price == '0.0':\n",
    "        ios_final.append(app)\n",
    "print(len(ios_final))"
   ]
  },
  {
   "cell_type": "code",
   "execution_count": 77,
   "metadata": {},
   "outputs": [
    {
     "data": {
      "text/plain": [
       "[]"
      ]
     },
     "execution_count": 77,
     "metadata": {},
     "output_type": "execute_result"
    }
   ],
   "source": [
    "for app in ios_english:\n",
    "    price = ios_english[0][5]\n",
    "    if price == '0.0':\n",
    "        ios_final.append(app)\n",
    "ios_final"
   ]
  },
  {
   "cell_type": "code",
   "execution_count": 78,
   "metadata": {},
   "outputs": [
    {
     "data": {
      "text/plain": [
       "'3.99'"
      ]
     },
     "execution_count": 78,
     "metadata": {},
     "output_type": "execute_result"
    }
   ],
   "source": [
    "ios_english[0][5]"
   ]
  },
  {
   "cell_type": "markdown",
   "metadata": {},
   "source": [
    "# Most Common Apps by Genre \n",
    "\n",
    "Determine kinds of apps that will attract more users.\n",
    "To minimize risks and overhead, our validation strategy for an app idea is comprised of three steps:\n",
    "\n",
    "- Build a minimal Android version of the app, and add it to Google Play.\n",
    "- If the app has a good response from users, we then develop it further.\n",
    "- If the app is profitable after six months, we also build an iOS version of the app and add it to the App Store."
   ]
  },
  {
   "cell_type": "code",
   "execution_count": 79,
   "metadata": {},
   "outputs": [],
   "source": [
    "def display_table(dataset, index):\n",
    "    table = freq_table(dataset, index)\n",
    "    table_display = []\n",
    "    for key in table:\n",
    "        key_val_as_tuple = (table[key], key)\n",
    "        table_display.append(key_val_as_tuple)\n",
    "\n",
    "    table_sorted = sorted(table_display, reverse = True)\n",
    "    for entry in table_sorted:\n",
    "        print(entry[1], ':', entry[0])"
   ]
  },
  {
   "cell_type": "markdown",
   "metadata": {},
   "source": [
    "One function to generate frequency tables that show percentages\n",
    "Another function that we can use to display the percentages in a descending order"
   ]
  },
  {
   "cell_type": "code",
   "execution_count": 80,
   "metadata": {},
   "outputs": [],
   "source": [
    "def freq_table(dataset, index):\n",
    "    table = {}\n",
    "    total = 0\n",
    "    \n",
    "    for row in dataset:\n",
    "        total += 1\n",
    "        value = row[index]\n",
    "        if value in table:\n",
    "            table[value] += 1\n",
    "        else:\n",
    "            table[value] = 1\n",
    "    \n",
    "    table_percentages = {}\n",
    "    for key in table:\n",
    "        percentage = (table[key] / total) * 100\n",
    "        table_percentages[key] = percentage \n",
    "    \n",
    "    return table_percentages\n"
   ]
  },
  {
   "cell_type": "markdown",
   "metadata": {},
   "source": [
    "# Part Three"
   ]
  },
  {
   "cell_type": "code",
   "execution_count": 81,
   "metadata": {},
   "outputs": [],
   "source": [
    "display_table(ios_final, -5)"
   ]
  },
  {
   "cell_type": "code",
   "execution_count": 82,
   "metadata": {},
   "outputs": [
    {
     "data": {
      "text/plain": [
       "[AC Remote Control, TOOLS, 3.3, 472, 2.0M, 100,000+, Free, 0, Everyone, Tools, October 17, 2017, 1.3, 4.1 and up]                                                                       1\n",
       "[GO Keyboard - Cute Emojis, Themes and GIFs, TOOLS, 4.5, 4594198, Varies with device, 100,000,000+, Free, 0, Everyone, Tools, July 31, 2018, Varies with device, Varies with device]    1\n",
       "[My G:, MAPS_AND_NAVIGATION, 3.7, 96, 14M, 10,000+, Free, 0, Everyone, Maps & Navigation, November 14, 2017, 1.4.0, 4.1 and up]                                                         1\n",
       "[Ba ba black sheep offline Video, PARENTING, 4.2, 20, 17M, 10,000+, Free, 0, Everyone, Parenting, July 2, 2017, 1.1, 4.0.3 and up]                                                      1\n",
       "[Block Puzzle, GAME, 4.6, 59907, 7.8M, 5,000,000+, Free, 0, Everyone, Puzzle, March 6, 2018, 2.9, 2.3 and up]                                                                           1\n",
       "[Foot Surgery Hospital Simulator: ER Doctor Games, FAMILY, 3.9, 314, 28M, 100,000+, Free, 0, Everyone, Casual, January 15, 2018, 1.1, 5.1 and up]                                       1\n",
       "[CMB Free Dating App, DATING, 4.0, 48845, 40M, 1,000,000+, Free, 0, Mature 17+, Dating, August 1, 2018, 4.19.0.2320, 4.4 and up]                                                        1\n",
       "[CF Climb, LIFESTYLE, 1.5, 2, 3.0M, 100+, Free, 0, Everyone, Lifestyle, June 7, 2018, 3.9.9.2, 2.3 and up]                                                                              1\n",
       "[Doctor X - ER On Wheels, FAMILY, 3.6, 12781, 51M, 1,000,000+, Free, 0, Everyone, Casual;Pretend Play, June 6, 2018, 1.0.9, 4.1 and up]                                                 1\n",
       "[BA Calculator, PRODUCTIVITY, 4.1, 22, 2.4M, 5,000+, Free, 0, Everyone, Productivity, July 22, 2018, 1.2.1, 4.0.3 and up]                                                               1\n",
       "[White Noise Lite, HEALTH_AND_FITNESS, 4.4, 57634, 41M, 1,000,000+, Free, 0, Everyone, Health & Fitness, June 25, 2018, 7.4, 4.1 and up]                                                1\n",
       "[WiFi-o-Matic, PRODUCTIVITY, 4.0, 736, 6.8M, 50,000+, Free, 0, Everyone, Productivity, February 1, 2018, 1.80.03, 4.1 and up]                                                           1\n",
       "[Live Talk - Free Text and Video Chat, DATING, 4.6, 185, 5.0M, 10,000+, Free, 0, Mature 17+, Dating, July 16, 2018, 8.2, 4.0.3 and up]                                                  1\n",
       "[Noot-Noot-er!, FAMILY, 4.5, 74, 2.8M, 5,000+, Free, 0, Everyone, Entertainment, November 22, 2017, 2.0, 4.0.3 and up]                                                                  1\n",
       "[Frontback - Social Photos, SOCIAL, 3.8, 19446, Varies with device, 1,000,000+, Free, 0, Mature 17+, Social, December 1, 2017, 3.4.5, 4.0.3 and up]                                     1\n",
       "[Ba Cristi, GAME, 3.5, 196, 35M, 10,000+, Free, 0, Everyone, Adventure, March 22, 2016, 1.0.4, 2.3 and up]                                                                              1\n",
       "[ER Heart Surgery - Emergency Simulator Game, FAMILY, 4.3, 429, 40M, 100,000+, Free, 0, Everyone, Educational, July 19, 2018, 2.0, 4.1 and up]                                          1\n",
       "[Google Handwriting Input, TOOLS, 4.3, 94427, Varies with device, 10,000,000+, Free, 0, Everyone, Tools, August 2, 2018, Varies with device, Varies with device]                        1\n",
       "[Weather forecast, WEATHER, 4.8, 159455, 10M, 1,000,000+, Free, 0, Everyone, Weather, May 8, 2018, 1.11.93, 4.4 and up]                                                                 1\n",
       "[Beautiful Widgets Free, PERSONALIZATION, 3.9, 25037, 14M, 1,000,000+, Free, 0, Everyone, Personalization, October 20, 2016, 5.7.6, 2.3 and up]                                         1\n",
       "[Pregnant Mom ER Emergency Doctor Hospital Games, FAMILY, 4.0, 325, 27M, 50,000+, Free, 0, Everyone, Educational, June 12, 2018, 1.2, 4.1 and up]                                       1\n",
       "[My Diet Diary Calorie Counter, HEALTH_AND_FITNESS, 4.1, 18539, 57M, 1,000,000+, Free, 0, Everyone, Health & Fitness, July 30, 2018, 1.11.4, 4.0.3 and up]                              1\n",
       "[Wallpapers DAF CF Trucks, PERSONALIZATION, NaN, 1, 13M, 100+, Free, 0, Teen, Personalization, June 13, 2016, 1.0, 2.3.3 and up]                                                        1\n",
       "[LinkedIn, SOCIAL, 4.2, 1225367, Varies with device, 100,000,000+, Free, 0, Everyone, Social, August 2, 2018, 4.1.202, 5.0 and up]                                                      1\n",
       "[Doctr â ER wait times in Canada, MEDICAL, 4.2, 980, Varies with device, 50,000+, Free, 0, Everyone, Medical, August 4, 2018, 2.2.2926, Varies with device]                           1\n",
       "[Wifi Analyzer, TOOLS, 4.4, 335115, 1.8M, 10,000,000+, Free, 0, Everyone, Tools, April 7, 2018, 3.11.2, 6.0 and up]                                                                     1\n",
       "[BA SALES, COMMUNICATION, NaN, 0, 2.9M, 1+, Free, 0, Everyone, Communication, January 31, 2018, 1.0, 4.0.3 and up]                                                                      1\n",
       "[Love Calendar - Couple Sharing Calendar & CoupleDay, DATING, NaN, 14, 3.3M, 50+, Free, 0, Everyone, Dating, July 30, 2018, 1.6, 4.1 and up]                                            1\n",
       "[Plastic Surgery Surgeon Simulator Er Doctor Games, FAMILY, 3.7, 3482, 37M, 500,000+, Free, 0, Everyone, Casual, August 7, 2018, 1.6, 4.4 and up]                                       1\n",
       "[Chat Kids - Chat Room For Kids, DATING, 4.7, 6, 4.9M, 100+, Free, 0, Mature 17+, Dating, July 24, 2018, 1.0, 4.0.3 and up]                                                             1\n",
       "                                                                                                                                                                                       ..\n",
       "[Drift Legends, GAME, 4.2, 33788, 27M, 1,000,000+, Free, 0, Everyone, Racing, March 29, 2018, 1.8.5, 4.1 and up]                                                                        1\n",
       "[University of Alabama, FAMILY, 4.5, 302, 3.0M, 50,000+, Free, 0, Everyone, Education, November 30, 2017, 3.3, 4.1 and up]                                                              1\n",
       "[Video.Guru - Video Maker, VIDEO_PLAYERS, 4.6, 36969, 27M, 1,000,000+, Free, 0, Everyone, Video Players & Editors, August 6, 2018, 1.137.22, 4.3 and up]                                1\n",
       "[FOX Sports: Live Streaming, Scores & News, SPORTS, 4.0, 28895, 82M, 5,000,000+, Free, 0, Teen, Sports, August 2, 2018, 4.4.15, 5.0 and up]                                             1\n",
       "[FK, MEDICAL, 4.4, 1517, 8.5M, 100,000+, Free, 0, Everyone, Medical, July 13, 2018, 2.5.9, 2.3 and up]                                                                                  1\n",
       "[FANDOM: Arrow and The Flash, FAMILY, 4.5, 3935, 9.5M, 100,000+, Free, 0, Mature 17+, Entertainment, June 7, 2018, 2.9.8, 4.4 and up]                                                   1\n",
       "[YourTube Video Views BG, VIDEO_PLAYERS, NaN, 8, 2.5M, 500+, Free, 0, Everyone, Video Players & Editors, November 12, 2015, 1.1.1, 4.0 and up]                                          1\n",
       "[CO CASE Events, FAMILY, NaN, 0, 54M, 100+, Free, 0, Everyone, Education, January 30, 2018, 1.3, 4.1 and up]                                                                            1\n",
       "[FK (FlightKid), GAME, NaN, 2, 22M, 10+, Free, 0, Everyone, Action, March 3, 2016, 1.0, 4.0 and up]                                                                                     1\n",
       "[Entel, LIFESTYLE, 3.2, 16168, 55M, 1,000,000+, Free, 0, Everyone, Lifestyle, July 26, 2018, 2.2.9, 4.0.3 and up]                                                                       1\n",
       "[League18, SPORTS, 4.3, 14123, 13M, 500,000+, Free, 0, Everyone, Sports, August 1, 2018, 4.0.0, 4.0 and up]                                                                             1\n",
       "[Monefy - Money Manager, FINANCE, 4.6, 111254, 7.4M, 1,000,000+, Free, 0, Everyone, Finance, July 3, 2018, 1.8.9, 4.0 and up]                                                           1\n",
       "[Fairy Kingdom: World of Magic and Farming, FAMILY, 4.4, 129542, 63M, 1,000,000+, Free, 0, Everyone, Strategy;Creativity, July 23, 2018, 2.4.9, 4.0.3 and up]                           1\n",
       "[BG Television, FAMILY, NaN, 3, 2.8M, 500+, Free, 0, Everyone, Entertainment, December 10, 2017, 1.0, 4.1 and up]                                                                       1\n",
       "[Br Shafi, FAMILY, 4.9, 1288, 26M, 10,000+, Free, 0, Everyone, Education, July 11, 2018, 1.0, 4.1 and up]                                                                               1\n",
       "[DJ Music Pad, FAMILY, 3.6, 35121, 5.1M, 5,000,000+, Free, 0, Everyone, Entertainment, May 22, 2018, 1.0.6, 4.0 and up]                                                                 1\n",
       "[FK Oleksandria, SPORTS, NaN, 0, 26M, 10+, Free, 0, Everyone, Sports, February 14, 2018, 1.0, 4.1 and up]                                                                               1\n",
       "[Alabama Gameday Live, SPORTS, 4.7, 19, 12M, 1,000+, Free, 0, Everyone, Sports, May 18, 2018, 2.0.1, 4.2 and up]                                                                        1\n",
       "[Dr. Oetker recipe ideas, FOOD_AND_DRINK, 4.2, 8509, 17M, 1,000,000+, Free, 0, Everyone, Food & Drink, July 12, 2018, 3.5.5, 4.0.3 and up]                                              1\n",
       "[Ad Block REMOVER - NEED ROOT, TOOLS, 3.3, 999, 91k, 100,000+, Free, 0, Everyone, Tools, December 17, 2013, 3.2, 2.2 and up]                                                            1\n",
       "[FK CLASSIC FOR YOU, BUSINESS, 5.0, 1, 3.5M, 10+, Free, 0, Everyone, Business, February 20, 2018, 1.1.0, 4.0 and up]                                                                    1\n",
       "[IZ2UUF Morse Koch CW, COMMUNICATION, 4.6, 649, 837k, 50,000+, Free, 0, Everyone, Communication, August 8, 2013, 1.0.013, 2.1 and up]                                                   1\n",
       "[Auto Background Changer, PHOTOGRAPHY, 4.0, 35188, 6.2M, 1,000,000+, Free, 0, Everyone, Photography, February 22, 2018, 1.0.11, 3.2 and up]                                             1\n",
       "[Hole.io, GAME, 4.2, 145353, 85M, 10,000,000+, Free, 0, Teen, Arcade, July 24, 2018, 1.3.1, 4.1 and up]                                                                                 1\n",
       "[FK Sileks, SPORTS, NaN, 0, 26M, 1+, Free, 0, Everyone, Sports, March 18, 2018, 1.0, 4.1 and up]                                                                                        1\n",
       "[Insightly CRM, BUSINESS, 3.8, 1383, 51M, 100,000+, Free, 0, Everyone, Business, July 12, 2018, 3.24.1, 5.0 and up]                                                                     1\n",
       "[HTC Gallery, VIDEO_PLAYERS, 4.1, 45744, Varies with device, 10,000,000+, Free, 0, Everyone, Video Players & Editors, June 3, 2016, 9.51.755029, 4.4 and up]                            1\n",
       "[Permit Test CO Colorado DMV, FAMILY, 4.5, 41, 11M, 1,000+, Free, 0, Everyone, Education, June 15, 2017, 2.6.5, 4.1 and up]                                                             1\n",
       "[QarabaÄ FK, SPORTS, NaN, 9, 5.5M, 100+, Free, 0, Everyone, Sports, August 1, 2018, 1.14, 4.2 and up]                                                                                  1\n",
       "[dv Prompter, VIDEO_PLAYERS, 3.7, 321, 1.3M, 50,000+, Free, 0, Everyone, Video Players & Editors, March 14, 2017, 1.2.9, 4.2 and up]                                                    1\n",
       "Length: 8760, dtype: int64"
      ]
     },
     "execution_count": 82,
     "metadata": {},
     "output_type": "execute_result"
    }
   ],
   "source": [
    "pd.value_counts(android_final)"
   ]
  },
  {
   "cell_type": "code",
   "execution_count": 83,
   "metadata": {
    "scrolled": true
   },
   "outputs": [
    {
     "name": "stdout",
     "output_type": "stream",
     "text": [
      "FAMILY : 18.938356164383563\n",
      "GAME : 9.657534246575343\n",
      "TOOLS : 8.481735159817351\n",
      "BUSINESS : 4.646118721461187\n",
      "PRODUCTIVITY : 3.9383561643835616\n",
      "LIFESTYLE : 3.9155251141552516\n",
      "FINANCE : 3.721461187214612\n",
      "MEDICAL : 3.550228310502283\n",
      "SPORTS : 3.3333333333333335\n",
      "PERSONALIZATION : 3.287671232876712\n",
      "COMMUNICATION : 3.2534246575342465\n",
      "HEALTH_AND_FITNESS : 3.093607305936073\n",
      "PHOTOGRAPHY : 2.9794520547945202\n",
      "NEWS_AND_MAGAZINES : 2.808219178082192\n",
      "SOCIAL : 2.6484018264840183\n",
      "TRAVEL_AND_LOCAL : 2.3401826484018264\n",
      "SHOPPING : 2.2488584474885847\n",
      "BOOKS_AND_REFERENCE : 2.146118721461187\n",
      "DATING : 1.860730593607306\n",
      "VIDEO_PLAYERS : 1.8036529680365299\n",
      "MAPS_AND_NAVIGATION : 1.3812785388127853\n",
      "FOOD_AND_DRINK : 1.2328767123287672\n",
      "EDUCATION : 1.1757990867579908\n",
      "ENTERTAINMENT : 0.9589041095890412\n",
      "AUTO_AND_VEHICLES : 0.9246575342465754\n",
      "LIBRARIES_AND_DEMO : 0.9018264840182649\n",
      "WEATHER : 0.7876712328767124\n",
      "HOUSE_AND_HOME : 0.7876712328767124\n",
      "EVENTS : 0.7191780821917808\n",
      "ART_AND_DESIGN : 0.6506849315068494\n",
      "PARENTING : 0.6392694063926941\n",
      "BEAUTY : 0.6050228310502284\n",
      "COMICS : 0.5821917808219178\n"
     ]
    }
   ],
   "source": [
    "display_table(android_final, 1) # Category"
   ]
  },
  {
   "cell_type": "markdown",
   "metadata": {},
   "source": [
    "# Most Popular Apps by Genre on the App Store\n",
    "One way to find out what genres are the most popular (have the most users) is to calculate the average number of installs for each app genre. For the Google Play data set, we can find this information in the Installs column, but for the App Store data set this information is missing. As a workaround, we'll take the total number of user ratings as a proxy, which we can find in the rating_count_tot app."
   ]
  },
  {
   "cell_type": "code",
   "execution_count": 84,
   "metadata": {},
   "outputs": [],
   "source": [
    "genres_ios = freq_table(ios_final, -5)\n",
    "\n",
    "for genre in genres_ios:\n",
    "    total = 0\n",
    "    len_genre = 0\n",
    "    for app in ios_final:\n",
    "        genre_app = app[-5]\n",
    "        if genre_app == genre:            \n",
    "            n_ratings = float(app[5])\n",
    "            total += n_ratings\n",
    "            len_genre += 1\n",
    "    avg_n_ratings = total / len_genre\n",
    "    print(genre, ':', avg_n_ratings)"
   ]
  },
  {
   "cell_type": "code",
   "execution_count": 85,
   "metadata": {},
   "outputs": [],
   "source": [
    "for app in ios_final:\n",
    "    if app[-5] == 'Navigation':\n",
    "        print(app[1], ':', app[5]) # print name and number of ratings"
   ]
  },
  {
   "cell_type": "code",
   "execution_count": 86,
   "metadata": {},
   "outputs": [],
   "source": [
    "for app in ios_final:\n",
    "    if app[-5] == 'Reference':\n",
    "        print(app[1], ':', app[5])"
   ]
  },
  {
   "cell_type": "markdown",
   "metadata": {},
   "source": [
    "# Most Popular Apps by Genre on Google Play¶\n",
    "Google Play Has Install Data"
   ]
  },
  {
   "cell_type": "code",
   "execution_count": 87,
   "metadata": {
    "scrolled": true
   },
   "outputs": [
    {
     "name": "stdout",
     "output_type": "stream",
     "text": [
      "1,000,000+ : 15.74200913242009\n",
      "100,000+ : 11.518264840182649\n",
      "10,000,000+ : 10.60502283105023\n",
      "10,000+ : 10.205479452054794\n",
      "1,000+ : 8.367579908675799\n",
      "100+ : 6.952054794520548\n",
      "5,000,000+ : 6.872146118721462\n",
      "500,000+ : 5.5479452054794525\n",
      "50,000+ : 4.7716894977168955\n",
      "5,000+ : 4.486301369863014\n",
      "10+ : 3.515981735159817\n",
      "500+ : 3.2077625570776256\n",
      "50,000,000+ : 2.28310502283105\n",
      "100,000,000+ : 2.134703196347032\n",
      "50+ : 1.9292237442922375\n",
      "5+ : 0.7876712328767124\n",
      "1+ : 0.5136986301369862\n",
      "500,000,000+ : 0.273972602739726\n",
      "1,000,000,000+ : 0.228310502283105\n",
      "0+ : 0.045662100456621\n",
      "0 : 0.01141552511415525\n"
     ]
    }
   ],
   "source": [
    "display_table(android_final, 5) # the Installs columns"
   ]
  },
  {
   "cell_type": "markdown",
   "metadata": {},
   "source": [
    "Compute the average number of installs for each genre (category)."
   ]
  },
  {
   "cell_type": "code",
   "execution_count": 88,
   "metadata": {
    "scrolled": true
   },
   "outputs": [
    {
     "name": "stdout",
     "output_type": "stream",
     "text": [
      "ART_AND_DESIGN : 1986335.0877192982\n",
      "AUTO_AND_VEHICLES : 654074.8271604938\n",
      "BEAUTY : 513151.88679245283\n",
      "BOOKS_AND_REFERENCE : 8329168.936170213\n",
      "BUSINESS : 1712290.1474201474\n",
      "COMICS : 859042.1568627451\n",
      "COMMUNICATION : 38550548.03859649\n",
      "DATING : 861409.5521472392\n",
      "EDUCATION : 1833495.145631068\n",
      "ENTERTAINMENT : 11767380.952380951\n",
      "EVENTS : 253542.22222222222\n",
      "FINANCE : 1365500.4049079753\n",
      "FOOD_AND_DRINK : 1951283.8055555555\n",
      "HEALTH_AND_FITNESS : 4219697.055350553\n",
      "HOUSE_AND_HOME : 1385541.463768116\n",
      "LIBRARIES_AND_DEMO : 649314.0506329114\n",
      "LIFESTYLE : 1447458.976676385\n",
      "GAME : 15571586.690307328\n",
      "FAMILY : 3716053.755274262\n",
      "MEDICAL : 121161.87781350482\n",
      "SOCIAL : 23628689.23275862\n",
      "SHOPPING : 7103190.78680203\n",
      "PHOTOGRAPHY : 17840110.40229885\n",
      "SPORTS : 3750580.6438356163\n",
      "TRAVEL_AND_LOCAL : 14120454.07804878\n",
      "TOOLS : 10902378.834454913\n",
      "PERSONALIZATION : 5240358.986111111\n",
      "PRODUCTIVITY : 16787331.344927534\n",
      "PARENTING : 552875.1785714285\n",
      "WEATHER : 5212877.101449275\n",
      "VIDEO_PLAYERS : 24878048.860759493\n",
      "NEWS_AND_MAGAZINES : 9626407.357723577\n",
      "MAPS_AND_NAVIGATION : 4115374.214876033\n"
     ]
    }
   ],
   "source": [
    "categories_android = freq_table(android_final, 1)\n",
    "\n",
    "for category in categories_android:\n",
    "    total = 0\n",
    "    len_category = 0\n",
    "    for app in android_final:\n",
    "        category_app = app[1]\n",
    "        if category_app == category:            \n",
    "            n_installs = app[5]\n",
    "            n_installs = n_installs.replace(',', '')\n",
    "            n_installs = n_installs.replace('+', '')\n",
    "            total += float(n_installs)\n",
    "            len_category += 1\n",
    "    avg_n_installs = total / len_category\n",
    "    print(category, ':', avg_n_installs)"
   ]
  },
  {
   "cell_type": "code",
   "execution_count": 89,
   "metadata": {},
   "outputs": [
    {
     "name": "stdout",
     "output_type": "stream",
     "text": [
      "WhatsApp Messenger : 1,000,000,000+\n",
      "imo beta free calls and text : 100,000,000+\n",
      "Android Messages : 100,000,000+\n",
      "Google Duo - High Quality Video Calls : 500,000,000+\n",
      "Messenger â Text and Video Chat for Free : 1,000,000,000+\n",
      "imo free video calls and chat : 500,000,000+\n",
      "Skype - free IM & video calls : 1,000,000,000+\n",
      "Who : 100,000,000+\n",
      "GO SMS Pro - Messenger, Free Themes, Emoji : 100,000,000+\n",
      "LINE: Free Calls & Messages : 500,000,000+\n",
      "Google Chrome: Fast & Secure : 1,000,000,000+\n",
      "Firefox Browser fast & private : 100,000,000+\n",
      "UC Browser - Fast Download Private & Secure : 500,000,000+\n",
      "Gmail : 1,000,000,000+\n",
      "Hangouts : 1,000,000,000+\n",
      "Messenger Lite: Free Calls & Messages : 100,000,000+\n",
      "Kik : 100,000,000+\n",
      "KakaoTalk: Free Calls & Text : 100,000,000+\n",
      "Opera Mini - fast web browser : 100,000,000+\n",
      "Opera Browser: Fast and Secure : 100,000,000+\n",
      "Telegram : 100,000,000+\n",
      "Truecaller: Caller ID, SMS spam blocking & Dialer : 100,000,000+\n",
      "UC Browser Mini -Tiny Fast Private & Secure : 100,000,000+\n",
      "Viber Messenger : 500,000,000+\n",
      "WeChat : 100,000,000+\n",
      "Yahoo Mail â Stay Organized : 100,000,000+\n",
      "BBM - Free Calls & Messages : 100,000,000+\n"
     ]
    }
   ],
   "source": [
    "for app in android_final:\n",
    "    if app[1] == 'COMMUNICATION' and (app[5] == '1,000,000,000+'\n",
    "                                      or app[5] == '500,000,000+'\n",
    "                                      or app[5] == '100,000,000+'):\n",
    "        print(app[0], ':', app[5])"
   ]
  },
  {
   "cell_type": "markdown",
   "metadata": {},
   "source": [
    "Communications takes a huge % of total downloads (highly skewed)"
   ]
  },
  {
   "cell_type": "code",
   "execution_count": 90,
   "metadata": {},
   "outputs": [
    {
     "data": {
      "text/plain": [
       "3437620.895348837"
      ]
     },
     "execution_count": 90,
     "metadata": {},
     "output_type": "execute_result"
    }
   ],
   "source": [
    "under_100_m = []\n",
    "\n",
    "for app in android_final:\n",
    "    n_installs = app[5]\n",
    "    n_installs = n_installs.replace(',', '')\n",
    "    n_installs = n_installs.replace('+', '')\n",
    "    if (app[1] == 'COMMUNICATION') and (float(n_installs) < 100000000):\n",
    "        under_100_m.append(float(n_installs))\n",
    "        \n",
    "sum(under_100_m) / len(under_100_m)"
   ]
  },
  {
   "cell_type": "markdown",
   "metadata": {},
   "source": [
    "Most social media apps and multimedia apps are saturated so the lowest hanging fruit would be the literature market. "
   ]
  },
  {
   "cell_type": "code",
   "execution_count": 91,
   "metadata": {},
   "outputs": [
    {
     "name": "stdout",
     "output_type": "stream",
     "text": [
      "E-Book Read - Read Book for free : 50,000+\n",
      "Download free book with green book : 100,000+\n",
      "Wikipedia : 10,000,000+\n",
      "Cool Reader : 10,000,000+\n",
      "Free Panda Radio Music : 100,000+\n",
      "Book store : 1,000,000+\n",
      "FBReader: Favorite Book Reader : 10,000,000+\n",
      "English Grammar Complete Handbook : 500,000+\n",
      "Free Books - Spirit Fanfiction and Stories : 1,000,000+\n",
      "Google Play Books : 1,000,000,000+\n",
      "AlReader -any text book reader : 5,000,000+\n",
      "Offline English Dictionary : 100,000+\n",
      "Offline: English to Tagalog Dictionary : 500,000+\n",
      "FamilySearch Tree : 1,000,000+\n",
      "Cloud of Books : 1,000,000+\n",
      "Recipes of Prophetic Medicine for free : 500,000+\n",
      "ReadEra â free ebook reader : 1,000,000+\n",
      "Anonymous caller detection : 10,000+\n",
      "Ebook Reader : 5,000,000+\n",
      "Litnet - E-books : 100,000+\n",
      "Read books online : 5,000,000+\n",
      "English to Urdu Dictionary : 500,000+\n",
      "eBoox: book reader fb2 epub zip : 1,000,000+\n",
      "English Persian Dictionary : 500,000+\n",
      "Flybook : 500,000+\n",
      "All Maths Formulas : 1,000,000+\n",
      "Ancestry : 5,000,000+\n",
      "HTC Help : 10,000,000+\n",
      "English translation from Bengali : 100,000+\n",
      "Pdf Book Download - Read Pdf Book : 100,000+\n",
      "Free Book Reader : 100,000+\n",
      "eBoox new: Reader for fb2 epub zip books : 50,000+\n",
      "Only 30 days in English, the guideline is guaranteed : 500,000+\n",
      "Moon+ Reader : 10,000,000+\n",
      "SH-02J Owner's Manual (Android 8.0) : 50,000+\n",
      "English-Myanmar Dictionary : 1,000,000+\n",
      "Golden Dictionary (EN-AR) : 1,000,000+\n",
      "All Language Translator Free : 1,000,000+\n",
      "Azpen eReader : 500,000+\n",
      "URBANO V 02 instruction manual : 100,000+\n",
      "Bible : 100,000,000+\n",
      "C Programs and Reference : 50,000+\n",
      "C Offline Tutorial : 1,000+\n",
      "C Programs Handbook : 50,000+\n",
      "Amazon Kindle : 100,000,000+\n",
      "Aab e Hayat Full Novel : 100,000+\n",
      "Aldiko Book Reader : 10,000,000+\n",
      "Google I/O 2018 : 500,000+\n",
      "R Language Reference Guide : 10,000+\n",
      "Learn R Programming Full : 5,000+\n",
      "R Programing Offline Tutorial : 1,000+\n",
      "Guide for R Programming : 5+\n",
      "Learn R Programming : 10+\n",
      "R Quick Reference Big Data : 1,000+\n",
      "V Made : 100,000+\n",
      "Dictionary - WordWeb : 5,000,000+\n",
      "Guide (for X-MEN) : 100,000+\n",
      "AC Air condition Troubleshoot,Repair,Maintenance : 5,000+\n",
      "AE Bulletins : 1,000+\n",
      "Ae Allah na Dai (Rasa) : 10,000+\n",
      "50000 Free eBooks & Free AudioBooks : 5,000,000+\n",
      "Ag PhD Field Guide : 10,000+\n",
      "Ag PhD Deficiencies : 10,000+\n",
      "Ag PhD Planting Population Calculator : 1,000+\n",
      "Ag PhD Soybean Diseases : 1,000+\n",
      "Fertilizer Removal By Crop : 50,000+\n",
      "A-J Media Vault : 50+\n",
      "Al-Quran (Free) : 10,000,000+\n",
      "Al Quran (Tafsir & by Word) : 500,000+\n",
      "Al Quran Indonesia : 10,000,000+\n",
      "Al'Quran Bahasa Indonesia : 10,000,000+\n",
      "Al Quran Al karim : 1,000,000+\n",
      "Al-Muhaffiz : 50,000+\n",
      "Al Quran : EAlim - Translations & MP3 Offline : 5,000,000+\n",
      "Al-Quran 30 Juz free copies : 500,000+\n",
      "Koran Read &MP3 30 Juz Offline : 1,000,000+\n",
      "Hafizi Quran 15 lines per page : 1,000,000+\n",
      "Quran for Android : 10,000,000+\n",
      "Surah Al-Waqiah : 100,000+\n",
      "Hisnul Al Muslim - Hisn Invocations & Adhkaar : 100,000+\n",
      "Satellite AR : 1,000,000+\n",
      "Audiobooks from Audible : 100,000,000+\n",
      "Kinot & Eichah for Tisha B'Av : 10,000+\n",
      "AW Tozer Devotionals - Daily : 5,000+\n",
      "Tozer Devotional -Series 1 : 1,000+\n",
      "The Pursuit of God : 1,000+\n",
      "AY Sing : 5,000+\n",
      "Ay Hasnain k Nana Milad Naat : 10,000+\n",
      "Ay Mohabbat Teri Khatir Novel : 10,000+\n",
      "Arizona Statutes, ARS (AZ Law) : 1,000+\n",
      "Oxford A-Z of English Usage : 1,000,000+\n",
      "BD Fishpedia : 1,000+\n",
      "BD All Sim Offer : 10,000+\n",
      "Youboox - Livres, BD et magazines : 500,000+\n",
      "B&H Kids AR : 10,000+\n",
      "B y H NiÃ±os ES : 5,000+\n",
      "Dictionary.com: Find Definitions for English Words : 10,000,000+\n",
      "English Dictionary - Offline : 10,000,000+\n",
      "Bible KJV : 5,000,000+\n",
      "Borneo Bible, BM Bible : 10,000+\n",
      "MOD Black for BM : 100+\n",
      "BM Box : 1,000+\n",
      "Anime Mod for BM : 100+\n",
      "NOOK: Read eBooks & Magazines : 10,000,000+\n",
      "NOOK Audiobooks : 500,000+\n",
      "NOOK App for NOOK Devices : 500,000+\n",
      "Browsery by Barnes & Noble : 5,000+\n",
      "bp e-store : 1,000+\n",
      "Brilliant Quotes: Life, Love, Family & Motivation : 1,000,000+\n",
      "BR Ambedkar Biography & Quotes : 10,000+\n",
      "BU Alsace : 100+\n",
      "Catholic La Bu Zo Kam : 500+\n",
      "Khrifa Hla Bu (Solfa) : 10+\n",
      "Kristian Hla Bu : 10,000+\n",
      "SA HLA BU : 1,000+\n",
      "Learn SAP BW : 500+\n",
      "Learn SAP BW on HANA : 500+\n",
      "CA Laws 2018 (California Laws and Codes) : 5,000+\n",
      "Bootable Methods(USB-CD-DVD) : 10,000+\n",
      "cloudLibrary : 100,000+\n",
      "SDA Collegiate Quarterly : 500+\n",
      "Sabbath School : 100,000+\n",
      "Cypress College Library : 100+\n",
      "Stats Royale for Clash Royale : 1,000,000+\n",
      "GATE 21 years CS Papers(2011-2018 Solved) : 50+\n",
      "Learn CT Scan Of Head : 5,000+\n",
      "Easy Cv maker 2018 : 10,000+\n",
      "How to Write CV : 100,000+\n",
      "CW Nuclear : 1,000+\n",
      "CY Spray nozzle : 10+\n",
      "BibleRead En Cy Zh Yue : 5+\n",
      "CZ-Help : 5+\n",
      "Guide for DB Xenoverse : 10,000+\n",
      "Guide for DB Xenoverse 2 : 10,000+\n",
      "Guide for IMS DB : 10+\n",
      "DC HSEMA : 5,000+\n",
      "DC Public Library : 1,000+\n",
      "Painting Lulu DC Super Friends : 1,000+\n",
      "Dictionary : 10,000,000+\n",
      "Fix Error Google Playstore : 1,000+\n",
      "D. H. Lawrence Poems FREE : 1,000+\n",
      "Bilingual Dictionary Audio App : 5,000+\n",
      "DM Screen : 10,000+\n",
      "wikiHow: how to do anything : 1,000,000+\n",
      "Dr. Doug's Tips : 1,000+\n",
      "Bible du Semeur-BDS (French) : 50,000+\n",
      "La citadelle du musulman : 50,000+\n",
      "DV 2019 Entry Guide : 10,000+\n",
      "DV 2019 - EDV Photo & Form : 50,000+\n",
      "DV 2018 Winners Guide : 1,000+\n",
      "EB Annual Meetings : 1,000+\n",
      "EC - AP & Telangana : 5,000+\n",
      "TN Patta Citta & EC : 10,000+\n",
      "AP Stamps and Registration : 10,000+\n",
      "CompactiMa EC pH Calibration : 100+\n",
      "EGW Writings 2 : 100,000+\n",
      "EGW Writings : 1,000,000+\n",
      "Bible with EGW Comments : 100,000+\n",
      "My Little Pony AR Guide : 1,000,000+\n",
      "SDA Sabbath School Quarterly : 500,000+\n",
      "Duaa Ek Ibaadat : 5,000+\n",
      "Spanish English Translator : 10,000,000+\n",
      "Dictionary - Merriam-Webster : 10,000,000+\n",
      "JW Library : 10,000,000+\n",
      "Oxford Dictionary of English : Free : 10,000,000+\n",
      "English Hindi Dictionary : 10,000,000+\n",
      "English to Hindi Dictionary : 5,000,000+\n",
      "EP Research Service : 1,000+\n",
      "Hymnes et Louanges : 100,000+\n",
      "EU Charter : 1,000+\n",
      "EU Data Protection : 1,000+\n",
      "EU IP Codes : 100+\n",
      "EW PDF : 5+\n",
      "BakaReader EX : 100,000+\n",
      "EZ Quran : 50,000+\n",
      "FA Part 1 & 2 Past Papers Solved Free â Offline : 5,000+\n",
      "La Fe de Jesus : 1,000+\n",
      "La Fe de JesÃºs : 500+\n",
      "Le Fe de Jesus : 500+\n",
      "Florida - Pocket Brainbook : 1,000+\n",
      "Florida Statutes (FL Code) : 1,000+\n",
      "English To Shona Dictionary : 10,000+\n",
      "Greek Bible FP (Audio) : 1,000+\n",
      "Golden Dictionary (FR-AR) : 500,000+\n",
      "Fanfic-FR : 5,000+\n",
      "Bulgarian French Dictionary Fr : 10,000+\n",
      "Chemin (fr) : 1,000+\n",
      "The SCP Foundation DB fr nn5n : 1,000+\n"
     ]
    }
   ],
   "source": [
    "for app in android_final:\n",
    "    if app[1] == 'BOOKS_AND_REFERENCE':\n",
    "        print(app[0], ':', app[5])"
   ]
  },
  {
   "cell_type": "code",
   "execution_count": 92,
   "metadata": {},
   "outputs": [
    {
     "name": "stdout",
     "output_type": "stream",
     "text": [
      "Google Play Books : 1,000,000,000+\n",
      "Bible : 100,000,000+\n",
      "Amazon Kindle : 100,000,000+\n",
      "Audiobooks from Audible : 100,000,000+\n"
     ]
    }
   ],
   "source": [
    "for app in android_final:\n",
    "    if app[1] == 'BOOKS_AND_REFERENCE' and (app[5] == '1,000,000,000+'\n",
    "                                            or app[5] == '500,000,000+'\n",
    "                                            or app[5] == '100,000,000+'):\n",
    "        print(app[0], ':', app[5])"
   ]
  },
  {
   "cell_type": "code",
   "execution_count": 93,
   "metadata": {
    "scrolled": true
   },
   "outputs": [
    {
     "name": "stdout",
     "output_type": "stream",
     "text": [
      "Wikipedia : 10,000,000+\n",
      "Cool Reader : 10,000,000+\n",
      "Book store : 1,000,000+\n",
      "FBReader: Favorite Book Reader : 10,000,000+\n",
      "Free Books - Spirit Fanfiction and Stories : 1,000,000+\n",
      "AlReader -any text book reader : 5,000,000+\n",
      "FamilySearch Tree : 1,000,000+\n",
      "Cloud of Books : 1,000,000+\n",
      "ReadEra â free ebook reader : 1,000,000+\n",
      "Ebook Reader : 5,000,000+\n",
      "Read books online : 5,000,000+\n",
      "eBoox: book reader fb2 epub zip : 1,000,000+\n",
      "All Maths Formulas : 1,000,000+\n",
      "Ancestry : 5,000,000+\n",
      "HTC Help : 10,000,000+\n",
      "Moon+ Reader : 10,000,000+\n",
      "English-Myanmar Dictionary : 1,000,000+\n",
      "Golden Dictionary (EN-AR) : 1,000,000+\n",
      "All Language Translator Free : 1,000,000+\n",
      "Aldiko Book Reader : 10,000,000+\n",
      "Dictionary - WordWeb : 5,000,000+\n",
      "50000 Free eBooks & Free AudioBooks : 5,000,000+\n",
      "Al-Quran (Free) : 10,000,000+\n",
      "Al Quran Indonesia : 10,000,000+\n",
      "Al'Quran Bahasa Indonesia : 10,000,000+\n",
      "Al Quran Al karim : 1,000,000+\n",
      "Al Quran : EAlim - Translations & MP3 Offline : 5,000,000+\n",
      "Koran Read &MP3 30 Juz Offline : 1,000,000+\n",
      "Hafizi Quran 15 lines per page : 1,000,000+\n",
      "Quran for Android : 10,000,000+\n",
      "Satellite AR : 1,000,000+\n",
      "Oxford A-Z of English Usage : 1,000,000+\n",
      "Dictionary.com: Find Definitions for English Words : 10,000,000+\n",
      "English Dictionary - Offline : 10,000,000+\n",
      "Bible KJV : 5,000,000+\n",
      "NOOK: Read eBooks & Magazines : 10,000,000+\n",
      "Brilliant Quotes: Life, Love, Family & Motivation : 1,000,000+\n",
      "Stats Royale for Clash Royale : 1,000,000+\n",
      "Dictionary : 10,000,000+\n",
      "wikiHow: how to do anything : 1,000,000+\n",
      "EGW Writings : 1,000,000+\n",
      "My Little Pony AR Guide : 1,000,000+\n",
      "Spanish English Translator : 10,000,000+\n",
      "Dictionary - Merriam-Webster : 10,000,000+\n",
      "JW Library : 10,000,000+\n",
      "Oxford Dictionary of English : Free : 10,000,000+\n",
      "English Hindi Dictionary : 10,000,000+\n",
      "English to Hindi Dictionary : 5,000,000+\n"
     ]
    }
   ],
   "source": [
    "for app in android_final:\n",
    "    if app[1] == 'BOOKS_AND_REFERENCE' and (app[5] == '1,000,000+'\n",
    "                                            or app[5] == '5,000,000+'\n",
    "                                            or app[5] == '10,000,000+'\n",
    "                                            or app[5] == '50,000,000+'):\n",
    "        print(app[0], ':', app[5])"
   ]
  },
  {
   "cell_type": "markdown",
   "metadata": {},
   "source": [
    "Most are apps for processing and reading e-books, and various literature and dictionaries. The market is saturated and would not be ideal to make similar products. "
   ]
  },
  {
   "cell_type": "markdown",
   "metadata": {},
   "source": [
    "# Conclusions\n",
    "After analyzing the data to figure out ther best app profile for both App Store and Google Play that are profitable for both markets.\n",
    "With similar libraries it is important to figure out which unique features that these competitors could implement to bring in more traffic/sales. "
   ]
  }
 ],
 "metadata": {
  "kernelspec": {
   "display_name": "Python 3",
   "language": "python",
   "name": "python3"
  },
  "language_info": {
   "codemirror_mode": {
    "name": "ipython",
    "version": 3
   },
   "file_extension": ".py",
   "mimetype": "text/x-python",
   "name": "python",
   "nbconvert_exporter": "python",
   "pygments_lexer": "ipython3",
   "version": "3.7.0"
  }
 },
 "nbformat": 4,
 "nbformat_minor": 2
}
